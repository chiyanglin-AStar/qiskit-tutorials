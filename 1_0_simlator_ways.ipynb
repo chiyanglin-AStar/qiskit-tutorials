{
  "nbformat": 4,
  "nbformat_minor": 0,
  "metadata": {
    "colab": {
      "provenance": [],
      "authorship_tag": "ABX9TyMNRQDooV1PNyhlNUIM7yMC",
      "include_colab_link": true
    },
    "kernelspec": {
      "name": "python3",
      "display_name": "Python 3"
    },
    "language_info": {
      "name": "python"
    }
  },
  "cells": [
    {
      "cell_type": "markdown",
      "metadata": {
        "id": "view-in-github",
        "colab_type": "text"
      },
      "source": [
        "<a href=\"https://colab.research.google.com/github/chiyanglin-AStar/qiskit-tutorials/blob/master/1_0_simlator_ways.ipynb\" target=\"_parent\"><img src=\"https://colab.research.google.com/assets/colab-badge.svg\" alt=\"Open In Colab\"/></a>"
      ]
    },
    {
      "cell_type": "code",
      "source": [
        "!pip install qiskit\n",
        "!pip install qiskit[visualization]"
      ],
      "metadata": {
        "id": "JMTbEkWm8F7i"
      },
      "execution_count": null,
      "outputs": []
    },
    {
      "cell_type": "markdown",
      "source": [
        "# Qiskit 1.0 simulator"
      ],
      "metadata": {
        "id": "TKY4Npyw7xU3"
      }
    },
    {
      "cell_type": "markdown",
      "source": [
        "## Statevector simulator\n",
        "```\n",
        "from qiskit import QuantumCircuit\n",
        "\n",
        "qc = QuantumCircuit(3)\n",
        "qc.h(0)\n",
        "qc.h(1)\n",
        "qc.cx(1, 2)\n",
        "qc.measure_all()\n",
        "\n",
        "# Previous\n",
        "from qiskit import BasicAer\n",
        "backend = BasicAer.get_backend(\"statevector_simulator\")\n",
        "statevector = backend.run(qc).result().get_statevector()\n",
        "\n",
        "# Current\n",
        "qc.remove_final_measurements()  # no measurements allowed\n",
        "from qiskit.quantum_info import Statevector\n",
        "statevector = Statevector(qc)\n",
        "\n",
        "```"
      ],
      "metadata": {
        "id": "8H5weBv_8TWj"
      }
    },
    {
      "cell_type": "code",
      "execution_count": null,
      "metadata": {
        "id": "tLy-UPGd7wAn"
      },
      "outputs": [],
      "source": [
        "from qiskit import QuantumCircuit\n",
        "\n",
        "qc = QuantumCircuit(3)\n",
        "qc.h(0)\n",
        "qc.h(1)\n",
        "qc.cx(1, 2)\n",
        "qc.measure_all()"
      ]
    },
    {
      "cell_type": "code",
      "source": [
        "# statevector_simulator Previous\n",
        "# from qiskit import BasicAer\n",
        "# backend = BasicAer.get_backend(\"statevector_simulator\")\n",
        "# statevector = backend.run(qc).result().get_statevector()"
      ],
      "metadata": {
        "id": "viLSAsOZ8L25"
      },
      "execution_count": null,
      "outputs": []
    },
    {
      "cell_type": "code",
      "source": [
        "# statevector_simulator Current\n",
        "qc.remove_final_measurements()  # no measurements allowed\n",
        "from qiskit.quantum_info import Statevector\n",
        "statevector = Statevector(qc)"
      ],
      "metadata": {
        "id": "-ip38BUc8QSr"
      },
      "execution_count": null,
      "outputs": []
    },
    {
      "cell_type": "markdown",
      "source": [
        "## unitary_simulator\n",
        "```\n",
        "from qiskit import QuantumCircuit\n",
        "qc = QuantumCircuit(3)\n",
        "qc.h(0)\n",
        "qc.h(1)\n",
        "qc.cx(1, 2)\n",
        "qc.measure_all()\n",
        "\n",
        "# Previous\n",
        "from qiskit import BasicAer\n",
        "backend = BasicAer.get_backend(\"unitary_simulator\")\n",
        "result = backend.run(qc).result()\n",
        "\n",
        "# Current\n",
        "qc.remove_final_measurements()  # no measurements allowed\n",
        "from qiskit.quantum_info import Operator\n",
        "result = Operator(qc).data\n",
        "\n",
        "```"
      ],
      "metadata": {
        "id": "jrVcvduO8qKC"
      }
    },
    {
      "cell_type": "code",
      "source": [
        "# unitary_simulator Previous\n",
        "# from qiskit import BasicAer\n",
        "# backend = BasicAer.get_backend(\"unitary_simulator\")\n",
        "# result = backend.run(qc).result()"
      ],
      "metadata": {
        "id": "dB91eaG29WeG"
      },
      "execution_count": null,
      "outputs": []
    },
    {
      "cell_type": "code",
      "source": [
        "# unitary_simulator Current\n",
        "qc.remove_final_measurements()  # no measurements allowed\n",
        "from qiskit.quantum_info import Operator\n",
        "result = Operator(qc).data"
      ],
      "metadata": {
        "id": "GMZMTjXu8q3y"
      },
      "execution_count": null,
      "outputs": []
    },
    {
      "cell_type": "markdown",
      "source": [
        "# QASM simulator\n",
        "```\n",
        "from qiskit import QuantumCircuit\n",
        "qc = QuantumCircuit(3)\n",
        "qc.h(0)\n",
        "qc.h(1)\n",
        "qc.cx(1, 2)\n",
        "qc.measure_all()\n",
        "\n",
        "# Previous\n",
        "from qiskit import BasicAer\n",
        "backend = BasicAer.get_backend(\"qasm_simulator\")\n",
        "result = backend.run(qc).result()\n",
        "\n",
        "# One current option\n",
        "from qiskit.providers.basic_provider import BasicProvider\n",
        "backend = BasicProvider().get_backend(\"basic_simulator\")\n",
        "result = backend.run(qc).result()\n",
        "\n",
        "# Another current option is to specify it directly\n",
        "from qiskit.providers.basic_provider import BasicSimulator\n",
        "backend = BasicSimulator()\n",
        "result = backend.run(qc).result()\n",
        "\n",
        "```\n"
      ],
      "metadata": {
        "id": "lxbic-Fl9vDH"
      }
    },
    {
      "cell_type": "code",
      "source": [
        "# QASM simulator Previous\n",
        "# from qiskit import BasicAer\n",
        "# backend = BasicAer.get_backend(\"qasm_simulator\")\n",
        "# result = backend.run(qc).result()"
      ],
      "metadata": {
        "id": "Jme1vgoS-HcA"
      },
      "execution_count": null,
      "outputs": []
    },
    {
      "cell_type": "code",
      "source": [
        "\n",
        "# QASM simulator: One current option\n",
        "from qiskit.providers.basic_provider import BasicProvider\n",
        "backend = BasicProvider().get_backend(\"basic_simulator\")\n",
        "result = backend.run(qc).result()\n",
        "\n",
        "# QASM simulator: Another current option is to specify it directly\n",
        "from qiskit.providers.basic_provider import BasicSimulator\n",
        "backend = BasicSimulator()\n",
        "result = backend.run(qc).result()"
      ],
      "metadata": {
        "id": "KhYFShqj9-eN"
      },
      "execution_count": null,
      "outputs": []
    }
  ]
}