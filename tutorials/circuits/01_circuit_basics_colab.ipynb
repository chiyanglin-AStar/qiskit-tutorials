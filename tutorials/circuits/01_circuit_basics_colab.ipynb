{
  "cells": [
    {
      "cell_type": "markdown",
      "metadata": {
        "id": "view-in-github",
        "colab_type": "text"
      },
      "source": [
        "<a href=\"https://colab.research.google.com/github/chiyanglin-AStar/qiskit-tutorials/blob/master/tutorials/circuits/01_circuit_basics_colab.ipynb\" target=\"_parent\"><img src=\"https://colab.research.google.com/assets/colab-badge.svg\" alt=\"Open In Colab\"/></a>"
      ]
    },
    {
      "cell_type": "code",
      "source": [
        "!pip install qiskit\n",
        "!pip install qiskit[visualization]"
      ],
      "metadata": {
        "colab": {
          "base_uri": "https://localhost:8080/"
        },
        "id": "wjtVPJWTgYgk",
        "outputId": "8595fd4e-f98e-4c6e-a046-1cbd468d96ad"
      },
      "execution_count": 1,
      "outputs": [
        {
          "output_type": "stream",
          "name": "stdout",
          "text": [
            "Collecting qiskit\n",
            "  Downloading qiskit-1.3.0-cp39-abi3-manylinux_2_17_x86_64.manylinux2014_x86_64.whl.metadata (12 kB)\n",
            "Collecting rustworkx>=0.15.0 (from qiskit)\n",
            "  Downloading rustworkx-0.15.1-cp38-abi3-manylinux_2_17_x86_64.manylinux2014_x86_64.whl.metadata (9.9 kB)\n",
            "Requirement already satisfied: numpy<3,>=1.17 in /usr/local/lib/python3.10/dist-packages (from qiskit) (1.26.4)\n",
            "Requirement already satisfied: scipy>=1.5 in /usr/local/lib/python3.10/dist-packages (from qiskit) (1.13.1)\n",
            "Requirement already satisfied: sympy>=1.3 in /usr/local/lib/python3.10/dist-packages (from qiskit) (1.13.1)\n",
            "Collecting dill>=0.3 (from qiskit)\n",
            "  Downloading dill-0.3.9-py3-none-any.whl.metadata (10 kB)\n",
            "Requirement already satisfied: python-dateutil>=2.8.0 in /usr/local/lib/python3.10/dist-packages (from qiskit) (2.8.2)\n",
            "Collecting stevedore>=3.0.0 (from qiskit)\n",
            "  Downloading stevedore-5.4.0-py3-none-any.whl.metadata (2.3 kB)\n",
            "Requirement already satisfied: typing-extensions in /usr/local/lib/python3.10/dist-packages (from qiskit) (4.12.2)\n",
            "Collecting symengine<0.14,>=0.11 (from qiskit)\n",
            "  Downloading symengine-0.13.0-cp310-cp310-manylinux_2_17_x86_64.manylinux2014_x86_64.whl.metadata (1.2 kB)\n",
            "Requirement already satisfied: six>=1.5 in /usr/local/lib/python3.10/dist-packages (from python-dateutil>=2.8.0->qiskit) (1.16.0)\n",
            "Collecting pbr>=2.0.0 (from stevedore>=3.0.0->qiskit)\n",
            "  Downloading pbr-6.1.0-py2.py3-none-any.whl.metadata (3.4 kB)\n",
            "Requirement already satisfied: mpmath<1.4,>=1.1.0 in /usr/local/lib/python3.10/dist-packages (from sympy>=1.3->qiskit) (1.3.0)\n",
            "Downloading qiskit-1.3.0-cp39-abi3-manylinux_2_17_x86_64.manylinux2014_x86_64.whl (6.7 MB)\n",
            "\u001b[2K   \u001b[90m━━━━━━━━━━━━━━━━━━━━━━━━━━━━━━━━━━━━━━━━\u001b[0m \u001b[32m6.7/6.7 MB\u001b[0m \u001b[31m44.2 MB/s\u001b[0m eta \u001b[36m0:00:00\u001b[0m\n",
            "\u001b[?25hDownloading dill-0.3.9-py3-none-any.whl (119 kB)\n",
            "\u001b[2K   \u001b[90m━━━━━━━━━━━━━━━━━━━━━━━━━━━━━━━━━━━━━━━━\u001b[0m \u001b[32m119.4/119.4 kB\u001b[0m \u001b[31m7.7 MB/s\u001b[0m eta \u001b[36m0:00:00\u001b[0m\n",
            "\u001b[?25hDownloading rustworkx-0.15.1-cp38-abi3-manylinux_2_17_x86_64.manylinux2014_x86_64.whl (2.0 MB)\n",
            "\u001b[2K   \u001b[90m━━━━━━━━━━━━━━━━━━━━━━━━━━━━━━━━━━━━━━━━\u001b[0m \u001b[32m2.0/2.0 MB\u001b[0m \u001b[31m37.4 MB/s\u001b[0m eta \u001b[36m0:00:00\u001b[0m\n",
            "\u001b[?25hDownloading stevedore-5.4.0-py3-none-any.whl (49 kB)\n",
            "\u001b[2K   \u001b[90m━━━━━━━━━━━━━━━━━━━━━━━━━━━━━━━━━━━━━━━━\u001b[0m \u001b[32m49.5/49.5 kB\u001b[0m \u001b[31m3.8 MB/s\u001b[0m eta \u001b[36m0:00:00\u001b[0m\n",
            "\u001b[?25hDownloading symengine-0.13.0-cp310-cp310-manylinux_2_17_x86_64.manylinux2014_x86_64.whl (49.7 MB)\n",
            "\u001b[2K   \u001b[90m━━━━━━━━━━━━━━━━━━━━━━━━━━━━━━━━━━━━━━━━\u001b[0m \u001b[32m49.7/49.7 MB\u001b[0m \u001b[31m14.9 MB/s\u001b[0m eta \u001b[36m0:00:00\u001b[0m\n",
            "\u001b[?25hDownloading pbr-6.1.0-py2.py3-none-any.whl (108 kB)\n",
            "\u001b[2K   \u001b[90m━━━━━━━━━━━━━━━━━━━━━━━━━━━━━━━━━━━━━━━━\u001b[0m \u001b[32m108.5/108.5 kB\u001b[0m \u001b[31m4.4 MB/s\u001b[0m eta \u001b[36m0:00:00\u001b[0m\n",
            "\u001b[?25hInstalling collected packages: symengine, rustworkx, pbr, dill, stevedore, qiskit\n",
            "Successfully installed dill-0.3.9 pbr-6.1.0 qiskit-1.3.0 rustworkx-0.15.1 stevedore-5.4.0 symengine-0.13.0\n",
            "Requirement already satisfied: qiskit[visualization] in /usr/local/lib/python3.10/dist-packages (1.3.0)\n",
            "Requirement already satisfied: rustworkx>=0.15.0 in /usr/local/lib/python3.10/dist-packages (from qiskit[visualization]) (0.15.1)\n",
            "Requirement already satisfied: numpy<3,>=1.17 in /usr/local/lib/python3.10/dist-packages (from qiskit[visualization]) (1.26.4)\n",
            "Requirement already satisfied: scipy>=1.5 in /usr/local/lib/python3.10/dist-packages (from qiskit[visualization]) (1.13.1)\n",
            "Requirement already satisfied: sympy>=1.3 in /usr/local/lib/python3.10/dist-packages (from qiskit[visualization]) (1.13.1)\n",
            "Requirement already satisfied: dill>=0.3 in /usr/local/lib/python3.10/dist-packages (from qiskit[visualization]) (0.3.9)\n",
            "Requirement already satisfied: python-dateutil>=2.8.0 in /usr/local/lib/python3.10/dist-packages (from qiskit[visualization]) (2.8.2)\n",
            "Requirement already satisfied: stevedore>=3.0.0 in /usr/local/lib/python3.10/dist-packages (from qiskit[visualization]) (5.4.0)\n",
            "Requirement already satisfied: typing-extensions in /usr/local/lib/python3.10/dist-packages (from qiskit[visualization]) (4.12.2)\n",
            "Requirement already satisfied: symengine<0.14,>=0.11 in /usr/local/lib/python3.10/dist-packages (from qiskit[visualization]) (0.13.0)\n",
            "Requirement already satisfied: matplotlib>=3.3 in /usr/local/lib/python3.10/dist-packages (from qiskit[visualization]) (3.8.0)\n",
            "Requirement already satisfied: pydot in /usr/local/lib/python3.10/dist-packages (from qiskit[visualization]) (3.0.2)\n",
            "Requirement already satisfied: Pillow>=4.2.1 in /usr/local/lib/python3.10/dist-packages (from qiskit[visualization]) (11.0.0)\n",
            "Collecting pylatexenc>=1.4 (from qiskit[visualization])\n",
            "  Downloading pylatexenc-2.10.tar.gz (162 kB)\n",
            "\u001b[2K     \u001b[90m━━━━━━━━━━━━━━━━━━━━━━━━━━━━━━━━━━━━━━━━\u001b[0m \u001b[32m162.6/162.6 kB\u001b[0m \u001b[31m10.8 MB/s\u001b[0m eta \u001b[36m0:00:00\u001b[0m\n",
            "\u001b[?25h  Preparing metadata (setup.py) ... \u001b[?25l\u001b[?25hdone\n",
            "Requirement already satisfied: seaborn>=0.9.0 in /usr/local/lib/python3.10/dist-packages (from qiskit[visualization]) (0.13.2)\n",
            "Requirement already satisfied: contourpy>=1.0.1 in /usr/local/lib/python3.10/dist-packages (from matplotlib>=3.3->qiskit[visualization]) (1.3.1)\n",
            "Requirement already satisfied: cycler>=0.10 in /usr/local/lib/python3.10/dist-packages (from matplotlib>=3.3->qiskit[visualization]) (0.12.1)\n",
            "Requirement already satisfied: fonttools>=4.22.0 in /usr/local/lib/python3.10/dist-packages (from matplotlib>=3.3->qiskit[visualization]) (4.55.0)\n",
            "Requirement already satisfied: kiwisolver>=1.0.1 in /usr/local/lib/python3.10/dist-packages (from matplotlib>=3.3->qiskit[visualization]) (1.4.7)\n",
            "Requirement already satisfied: packaging>=20.0 in /usr/local/lib/python3.10/dist-packages (from matplotlib>=3.3->qiskit[visualization]) (24.2)\n",
            "Requirement already satisfied: pyparsing>=2.3.1 in /usr/local/lib/python3.10/dist-packages (from matplotlib>=3.3->qiskit[visualization]) (3.2.0)\n",
            "Requirement already satisfied: six>=1.5 in /usr/local/lib/python3.10/dist-packages (from python-dateutil>=2.8.0->qiskit[visualization]) (1.16.0)\n",
            "Requirement already satisfied: pandas>=1.2 in /usr/local/lib/python3.10/dist-packages (from seaborn>=0.9.0->qiskit[visualization]) (2.2.2)\n",
            "Requirement already satisfied: pbr>=2.0.0 in /usr/local/lib/python3.10/dist-packages (from stevedore>=3.0.0->qiskit[visualization]) (6.1.0)\n",
            "Requirement already satisfied: mpmath<1.4,>=1.1.0 in /usr/local/lib/python3.10/dist-packages (from sympy>=1.3->qiskit[visualization]) (1.3.0)\n",
            "Requirement already satisfied: pytz>=2020.1 in /usr/local/lib/python3.10/dist-packages (from pandas>=1.2->seaborn>=0.9.0->qiskit[visualization]) (2024.2)\n",
            "Requirement already satisfied: tzdata>=2022.7 in /usr/local/lib/python3.10/dist-packages (from pandas>=1.2->seaborn>=0.9.0->qiskit[visualization]) (2024.2)\n",
            "Building wheels for collected packages: pylatexenc\n",
            "  Building wheel for pylatexenc (setup.py) ... \u001b[?25l\u001b[?25hdone\n",
            "  Created wheel for pylatexenc: filename=pylatexenc-2.10-py3-none-any.whl size=136816 sha256=f79b145e0a7704e522d06e69953657030491d93cf4a3d273e46e161b7f8a6eed\n",
            "  Stored in directory: /root/.cache/pip/wheels/d3/31/8b/e09b0386afd80cfc556c00408c9aeea5c35c4d484a9c762fd5\n",
            "Successfully built pylatexenc\n",
            "Installing collected packages: pylatexenc\n",
            "Successfully installed pylatexenc-2.10\n"
          ]
        }
      ]
    },
    {
      "cell_type": "markdown",
      "metadata": {
        "id": "IuSdVSwkeHgk"
      },
      "source": [
        "# Circuit Basics\n",
        "\n",
        "Here, we provide an overview of working with Qiskit.  Qiskit provides the basic building blocks necessary to program quantum computers. The fundamental unit of Qiskit is the [quantum circuit](https://en.wikipedia.org/wiki/Quantum_circuit). A basic workflow using Qiskit consists of two stages: **Build** and **Run**. **Build** allows you to make different quantum circuits that represent the problem you are solving, and **Run** that allows you to run them on different backends.  After the jobs have been run, the data is collected and postprocessed depending on the desired output."
      ]
    },
    {
      "cell_type": "code",
      "execution_count": 2,
      "metadata": {
        "ExecuteTime": {
          "end_time": "2019-08-10T11:37:44.387267Z",
          "start_time": "2019-08-10T11:37:41.934365Z"
        },
        "id": "UUqjb8mQeHgp"
      },
      "outputs": [],
      "source": [
        "import numpy as np\n",
        "from qiskit import QuantumCircuit\n",
        "\n"
      ]
    },
    {
      "cell_type": "markdown",
      "metadata": {
        "id": "el-WlslXeHgu"
      },
      "source": [
        "## Building the circuit <a name='basics'></a>\n",
        "\n",
        "The basic element needed for your first program is the QuantumCircuit.  We begin by creating a `QuantumCircuit` comprised of three qubits."
      ]
    },
    {
      "cell_type": "code",
      "execution_count": 3,
      "metadata": {
        "ExecuteTime": {
          "end_time": "2019-08-10T11:37:44.392806Z",
          "start_time": "2019-08-10T11:37:44.389673Z"
        },
        "id": "5pZydbgIeHgv"
      },
      "outputs": [],
      "source": [
        "# Create a Quantum Circuit acting on a quantum register of three qubits\n",
        "circ = QuantumCircuit(3)"
      ]
    },
    {
      "cell_type": "markdown",
      "metadata": {
        "id": "rq8p9mCDeHgx"
      },
      "source": [
        "After you create the circuit with its registers, you can add gates (\"operations\") to manipulate the registers. As you proceed through the tutorials you will find more gates and circuits; below is an example of a quantum circuit that makes a three-qubit GHZ state\n",
        "\n",
        "$$|\\psi\\rangle = \\left(|000\\rangle+|111\\rangle\\right)/\\sqrt{2}.$$\n",
        "\n",
        "To create such a state, we start with a three-qubit quantum register. By default, each qubit in the register is initialized to $|0\\rangle$. To make the GHZ state, we apply the following gates:\n",
        "- A Hadamard gate $H$ on qubit 0, which puts it into the superposition state $\\left(|0\\rangle+|1\\rangle\\right)/\\sqrt{2}$.\n",
        "- A Controlled-NOT operation ($C_{X}$) between qubit 0 and qubit 1.\n",
        "- A Controlled-NOT operation between qubit 0 and qubit 2.\n",
        "\n",
        "On an ideal quantum computer, the state produced by running this circuit would be the GHZ state above.\n",
        "\n",
        "In Qiskit, operations can be added to the circuit one by one, as shown below."
      ]
    },
    {
      "cell_type": "code",
      "execution_count": 4,
      "metadata": {
        "ExecuteTime": {
          "end_time": "2019-08-10T11:37:44.401502Z",
          "start_time": "2019-08-10T11:37:44.395545Z"
        },
        "colab": {
          "base_uri": "https://localhost:8080/"
        },
        "id": "6xcOwXfkeHgy",
        "outputId": "2d59ac65-8e3a-41c1-e928-c65887197a5e"
      },
      "outputs": [
        {
          "output_type": "execute_result",
          "data": {
            "text/plain": [
              "<qiskit.circuit.instructionset.InstructionSet at 0x7df6e49f8b50>"
            ]
          },
          "metadata": {},
          "execution_count": 4
        }
      ],
      "source": [
        "# Add a H gate on qubit 0, putting this qubit in superposition.\n",
        "circ.h(0)\n",
        "# Add a CX (CNOT) gate on control qubit 0 and target qubit 1, putting\n",
        "# the qubits in a Bell state.\n",
        "circ.cx(0, 1)\n",
        "# Add a CX (CNOT) gate on control qubit 0 and target qubit 2, putting\n",
        "# the qubits in a GHZ state.\n",
        "circ.cx(0, 2)"
      ]
    },
    {
      "cell_type": "markdown",
      "metadata": {
        "id": "qvBnukXWeHg2"
      },
      "source": [
        "## Visualize Circuit <a name='visualize'></a>\n",
        "\n",
        "You can visualize your circuit using Qiskit `QuantumCircuit.draw()`, which plots the circuit in the form found in many textbooks."
      ]
    },
    {
      "cell_type": "code",
      "execution_count": 5,
      "metadata": {
        "ExecuteTime": {
          "end_time": "2019-08-10T11:37:44.762773Z",
          "start_time": "2019-08-10T11:37:44.403727Z"
        },
        "scrolled": true,
        "colab": {
          "base_uri": "https://localhost:8080/",
          "height": 255
        },
        "id": "AmjzY-ldeHg4",
        "outputId": "c1032883-0524-48c9-a5e2-8deeda3210e0"
      },
      "outputs": [
        {
          "output_type": "execute_result",
          "data": {
            "text/plain": [
              "<Figure size 371.107x284.278 with 1 Axes>"
            ],
            "image/png": "[encoded data removed]"
          },
          "metadata": {},
          "execution_count": 5
        }
      ],
      "source": [
        "circ.draw('mpl')"
      ]
    },
    {
      "cell_type": "markdown",
      "metadata": {
        "id": "QnUcoutReHg6"
      },
      "source": [
        "In this circuit, the qubits are put in order, with qubit zero at the top and qubit two at the bottom. The circuit is read left to right (meaning that gates that are applied earlier in the circuit show up further to the left)."
      ]
    },
    {
      "cell_type": "markdown",
      "metadata": {
        "id": "9o9-9LsaeHg-"
      },
      "source": [
        "<div class=\"alert alert-block alert-info\">\n",
        "\n",
        "\n",
        "When representing the state of a multi-qubit system, the tensor order used in Qiskit is different than that used in most physics textbooks. Suppose there are $n$ qubits, and qubit $j$ is labeled as $Q_{j}$. Qiskit uses an ordering in which the $n^{\\mathrm{th}}$ qubit is on the <em><strong>left</strong></em> side of the tensor product, so that the basis vectors are labeled as  $Q_{n-1}\\otimes \\cdots  \\otimes  Q_1\\otimes Q_0$.\n",
        "\n",
        "For example, if qubit zero is in state 0, qubit 1 is in state 0, and qubit 2 is in state 1, Qiskit would represent this state as $|100\\rangle$, whereas many physics textbooks would represent it as $|001\\rangle$.\n",
        "\n",
        "This difference in labeling affects the way multi-qubit operations are represented as matrices. For example, Qiskit represents a controlled-X ($C_{X}$) operation with qubit 0 being the control and qubit 1 being the target as\n",
        "\n",
        "$$C_X = \\begin{pmatrix} 1 & 0 & 0 & 0 \\\\  0 & 0 & 0 & 1 \\\\ 0 & 0 & 1 & 0 \\\\ 0 & 1 & 0 & 0 \\\\\\end{pmatrix}.$$\n",
        "\n",
        "</div>"
      ]
    },
    {
      "cell_type": "markdown",
      "metadata": {
        "id": "A3zZHkbLeHg_"
      },
      "source": [
        "## Simulating circuits <a name='simulation'></a>\n",
        "\n",
        "To simulate a circuit we use the quant_info module in Qiskit. This simulator returns the quantum state, which is a complex vector of dimensions $2^n$, where $n$ is the number of qubits\n",
        "(so be careful using this as it will quickly get too large to run on your machine).\n",
        "\n",
        "There are two stages to the simulator. The first is to set the input state and the second to evolve the state by the quantum circuit."
      ]
    },
    {
      "cell_type": "code",
      "execution_count": 6,
      "metadata": {
        "colab": {
          "base_uri": "https://localhost:8080/",
          "height": 40
        },
        "id": "A_pbm0zFeHhB",
        "outputId": "dea10277-6b9c-40f1-ea2d-bae8e93fac23"
      },
      "outputs": [
        {
          "output_type": "execute_result",
          "data": {
            "text/plain": [
              "<IPython.core.display.Latex object>"
            ],
            "text/latex": "$$\\frac{\\sqrt{2}}{2} |000\\rangle+\\frac{\\sqrt{2}}{2} |111\\rangle$$"
          },
          "metadata": {},
          "execution_count": 6
        }
      ],
      "source": [
        "from qiskit.quantum_info import Statevector\n",
        "\n",
        "# Set the initial state of the simulator to the ground state using from_int\n",
        "state = Statevector.from_int(0, 2**3)\n",
        "\n",
        "# Evolve the state by the quantum circuit\n",
        "state = state.evolve(circ)\n",
        "\n",
        "#draw using latex\n",
        "state.draw('latex')"
      ]
    },
    {
      "cell_type": "code",
      "execution_count": 7,
      "metadata": {
        "colab": {
          "base_uri": "https://localhost:8080/",
          "height": 47
        },
        "id": "Yj2K1JPZeHhD",
        "outputId": "a1094d8b-f458-42c0-b384-79ac392eb98f"
      },
      "outputs": [
        {
          "output_type": "execute_result",
          "data": {
            "text/plain": [
              "<IPython.core.display.Latex object>"
            ],
            "text/latex": "$$\n\n\\begin{bmatrix}\n\\frac{\\sqrt{2}}{2} & 0 & 0 & 0 & 0 & 0 & 0 & \\frac{\\sqrt{2}}{2}  \\\\\n \\end{bmatrix}\n$$"
          },
          "metadata": {},
          "execution_count": 7
        }
      ],
      "source": [
        "from qiskit.visualization import array_to_latex\n",
        "\n",
        "#Alternative way of representing in latex\n",
        "array_to_latex(state)"
      ]
    },
    {
      "cell_type": "markdown",
      "metadata": {
        "id": "XLGvk-dZeHhE"
      },
      "source": [
        "Qiskit also provides a visualization toolbox to allow you to view the state.\n",
        "\n",
        "Below, we use the visualization function to plot the qsphere  and a hinton representing the real and imaginary components of the state density matrix $\\rho$."
      ]
    },
    {
      "cell_type": "code",
      "execution_count": 8,
      "metadata": {
        "colab": {
          "base_uri": "https://localhost:8080/",
          "height": 576
        },
        "id": "xWkiJ7A_eHhF",
        "outputId": "03bcef33-faf6-4015-8b14-f326ab0fd5b2"
      },
      "outputs": [
        {
          "output_type": "execute_result",
          "data": {
            "text/plain": [
              "<Figure size 700x700 with 2 Axes>"
            ],
            "image/png": "[encoded data removed]"
          },
          "metadata": {},
          "execution_count": 8
        }
      ],
      "source": [
        "state.draw('qsphere')"
      ]
    },
    {
      "cell_type": "code",
      "execution_count": 9,
      "metadata": {
        "colab": {
          "base_uri": "https://localhost:8080/",
          "height": 439
        },
        "id": "7lqEZwITeHhG",
        "outputId": "ccced27e-1536-4e0c-e72e-9db5593f21b0"
      },
      "outputs": [
        {
          "output_type": "execute_result",
          "data": {
            "text/plain": [
              "<Figure size 800x500 with 2 Axes>"
            ],
            "image/png": "[encoded data removed]"
          },
          "metadata": {},
          "execution_count": 9
        }
      ],
      "source": [
        "state.draw('hinton')"
      ]
    },
    {
      "cell_type": "markdown",
      "metadata": {
        "id": "oa9dDUMpeHhI"
      },
      "source": [
        "## Unitary representation of a circuit"
      ]
    },
    {
      "cell_type": "markdown",
      "metadata": {
        "id": "4_f1CYZNeHhJ"
      },
      "source": [
        "Qiskit's quant_info module also has an operator method which can be used to make a unitary operator for the circuit. This calculates the $2^n \\times 2^n$ matrix representing the quantum circuit."
      ]
    },
    {
      "cell_type": "code",
      "execution_count": 10,
      "metadata": {
        "ExecuteTime": {
          "end_time": "2019-08-10T11:37:45.626148Z",
          "start_time": "2019-08-10T11:37:45.607840Z"
        },
        "colab": {
          "base_uri": "https://localhost:8080/"
        },
        "id": "DDuo-NbjeHhJ",
        "outputId": "d6e84726-5338-4c38-a830-57ab816f540e"
      },
      "outputs": [
        {
          "output_type": "execute_result",
          "data": {
            "text/plain": [
              "array([[ 0.70710678+0.j,  0.70710678+0.j,  0.        +0.j,\n",
              "         0.        +0.j,  0.        +0.j,  0.        +0.j,\n",
              "         0.        +0.j,  0.        +0.j],\n",
              "       [ 0.        +0.j,  0.        +0.j,  0.        +0.j,\n",
              "         0.        +0.j,  0.        +0.j,  0.        +0.j,\n",
              "         0.70710678+0.j, -0.70710678+0.j],\n",
              "       [ 0.        +0.j,  0.        +0.j,  0.70710678+0.j,\n",
              "         0.70710678+0.j,  0.        +0.j,  0.        +0.j,\n",
              "         0.        +0.j,  0.        +0.j],\n",
              "       [ 0.        +0.j,  0.        +0.j,  0.        +0.j,\n",
              "         0.        +0.j,  0.70710678+0.j, -0.70710678+0.j,\n",
              "         0.        +0.j,  0.        +0.j],\n",
              "       [ 0.        +0.j,  0.        +0.j,  0.        +0.j,\n",
              "         0.        +0.j,  0.70710678+0.j,  0.70710678+0.j,\n",
              "         0.        +0.j,  0.        +0.j],\n",
              "       [ 0.        +0.j,  0.        +0.j,  0.70710678+0.j,\n",
              "        -0.70710678+0.j,  0.        +0.j,  0.        +0.j,\n",
              "         0.        +0.j,  0.        +0.j],\n",
              "       [ 0.        +0.j,  0.        +0.j,  0.        +0.j,\n",
              "         0.        +0.j,  0.        +0.j,  0.        +0.j,\n",
              "         0.70710678+0.j,  0.70710678+0.j],\n",
              "       [ 0.70710678+0.j, -0.70710678+0.j,  0.        +0.j,\n",
              "         0.        +0.j,  0.        +0.j,  0.        +0.j,\n",
              "         0.        +0.j,  0.        +0.j]])"
            ]
          },
          "metadata": {},
          "execution_count": 10
        }
      ],
      "source": [
        "from qiskit.quantum_info import Operator\n",
        "\n",
        "U = Operator(circ)\n",
        "\n",
        "# Show the results\n",
        "U.data"
      ]
    },
    {
      "cell_type": "markdown",
      "metadata": {
        "id": "bUBRKhzUeHhK"
      },
      "source": [
        "## OpenQASM backend"
      ]
    },
    {
      "cell_type": "markdown",
      "metadata": {
        "id": "O1-JJcKTeHhL"
      },
      "source": [
        "The simulators above are useful because they provide information about the state output by the ideal circuit and the matrix representation of the circuit. However, a real experiment terminates by _measuring_ each qubit (usually in the computational $|0\\rangle, |1\\rangle$ basis). Without measurement, we cannot gain information about the state. Measurements cause the quantum system to collapse into classical bits.\n",
        "\n",
        "For example, suppose we make independent measurements on each qubit of the three-qubit GHZ state\n",
        "\n",
        "$$|\\psi\\rangle = (|000\\rangle +|111\\rangle)/\\sqrt{2},$$\n",
        "\n",
        "and let $xyz$ denote the bitstring that results. Recall that, under the qubit labeling used by Qiskit, $x$ would correspond to the outcome on qubit 2, $y$ to the outcome on qubit 1, and $z$ to the outcome on qubit 0.\n",
        "\n",
        "<div class=\"alert alert-block alert-info\">\n",
        "<b>Note:</b> This representation of the bitstring puts the most significant bit (MSB) on the left, and the least significant bit (LSB) on the right. This is the standard ordering of binary bitstrings. We order the qubits in the same way (qubit representing the MSB has index 0), which is why Qiskit uses a non-standard tensor product order.\n",
        "</div>\n",
        "\n",
        "Recall the probability of obtaining outcome $xyz$ is given by\n",
        "\n",
        "$$\\mathrm{Pr}(xyz) = |\\langle xyz | \\psi \\rangle |^{2}$$\n",
        "\n",
        "and as such for the GHZ state probability of obtaining 000 or 111 are both 1/2.\n",
        "\n",
        "To simulate a circuit that includes measurement, we need to add measurements to the original circuit above, and use a different Aer backend."
      ]
    },
    {
      "cell_type": "code",
      "execution_count": 11,
      "metadata": {
        "ExecuteTime": {
          "end_time": "2019-08-10T11:37:45.840681Z",
          "start_time": "2019-08-10T11:37:45.627937Z"
        },
        "colab": {
          "base_uri": "https://localhost:8080/",
          "height": 320
        },
        "id": "72ishZiWeHhL",
        "outputId": "b5fda134-985f-44d4-e199-d5b1fbb2879f"
      },
      "outputs": [
        {
          "output_type": "execute_result",
          "data": {
            "text/plain": [
              "<Figure size 705.552x367.889 with 1 Axes>"
            ],
            "image/png": "[encoded data removed]"
          },
          "metadata": {},
          "execution_count": 11
        }
      ],
      "source": [
        "# Create a Quantum Circuit\n",
        "meas = QuantumCircuit(3, 3)\n",
        "meas.barrier(range(3))\n",
        "# map the quantum measurement to the classical bits\n",
        "meas.measure(range(3), range(3))\n",
        "\n",
        "# The Qiskit circuit object supports composition.\n",
        "# Here the meas has to be first and front=True (putting it before)\n",
        "# as compose must put a smaller circuit into a larger one.\n",
        "qc = meas.compose(circ, range(3), front=True)\n",
        "\n",
        "#drawing the circuit\n",
        "qc.draw('mpl')"
      ]
    },
    {
      "cell_type": "markdown",
      "metadata": {
        "id": "daBg0tXueHhN"
      },
      "source": [
        "This circuit adds a classical register, and three measurements that are used to map the outcome of qubits to the classical bits.\n",
        "\n",
        "To simulate this circuit, we use the ``qasm_simulator`` in Qiskit Aer. Each run of this circuit will yield either the bitstring 000 or 111. To build up statistics about the distribution of the bitstrings (to, e.g., estimate $\\mathrm{Pr}(000)$), we need to repeat the circuit many times. The number of times the circuit is repeated can be specified in the ``execute`` function, via the ``shots`` keyword."
      ]
    },
    {
      "cell_type": "code",
      "execution_count": 12,
      "metadata": {
        "ExecuteTime": {
          "end_time": "2019-08-10T11:37:45.868074Z",
          "start_time": "2019-08-10T11:37:45.842666Z"
        },
        "id": "VCrK4jRZeHhO"
      },
      "outputs": [],
      "source": [
        "# Adding the transpiler to reduce the circuit to QASM instructions\n",
        "# supported by the backend\n",
        "from qiskit import transpile\n",
        "\n",
        "# Use AerSimulator\n",
        "#from qiskit_aer import AerSimulator\n",
        "\n",
        "#backend = AerSimulator()\n",
        "\n",
        "# the following is 1.0 simulater\n",
        "\n",
        "from qiskit.providers.basic_provider import BasicSimulator\n",
        "\n",
        "backend = BasicSimulator()\n",
        "\n",
        "# First we have to transpile the quantum circuit\n",
        "# to the low-level QASM instructions used by the\n",
        "# backend\n",
        "qc_compiled = transpile(qc, backend)\n",
        "\n",
        "# Execute the circuit on the qasm simulator.\n",
        "# We've set the number of repeats of the circuit\n",
        "# to be 1024, which is the default.\n",
        "job_sim = backend.run(qc_compiled, shots=1024)\n",
        "\n",
        "# Grab the results from the job.\n",
        "result_sim = job_sim.result()"
      ]
    },
    {
      "cell_type": "markdown",
      "metadata": {
        "id": "9L94G-RFeHhP"
      },
      "source": [
        "Once you have a result object, you can access the counts via the function `get_counts(circuit)`. This gives you the _aggregated_ binary outcomes of the circuit you submitted."
      ]
    },
    {
      "cell_type": "code",
      "execution_count": 13,
      "metadata": {
        "ExecuteTime": {
          "end_time": "2019-08-10T11:37:45.873600Z",
          "start_time": "2019-08-10T11:37:45.869929Z"
        },
        "colab": {
          "base_uri": "https://localhost:8080/"
        },
        "id": "lVBjSZyUeHhQ",
        "outputId": "b410c23d-0ebc-44c4-915e-9b44b52efcd4"
      },
      "outputs": [
        {
          "output_type": "stream",
          "name": "stdout",
          "text": [
            "{'000': 504, '111': 520}\n"
          ]
        }
      ],
      "source": [
        "counts = result_sim.get_counts(qc_compiled)\n",
        "print(counts)"
      ]
    },
    {
      "cell_type": "markdown",
      "metadata": {
        "id": "N3dMWM-3eHhR"
      },
      "source": [
        "Approximately 50 percent of the time, the output bitstring is 000. Qiskit also provides a function `plot_histogram`, which allows you to view the outcomes."
      ]
    },
    {
      "cell_type": "code",
      "execution_count": 14,
      "metadata": {
        "ExecuteTime": {
          "end_time": "2019-08-10T11:37:45.991815Z",
          "start_time": "2019-08-10T11:37:45.875518Z"
        },
        "colab": {
          "base_uri": "https://localhost:8080/",
          "height": 446
        },
        "id": "75ycIYLDeHhR",
        "outputId": "c20788d5-20fd-4591-9a5c-c1ba114ecdd3"
      },
      "outputs": [
        {
          "output_type": "execute_result",
          "data": {
            "text/plain": [
              "<Figure size 640x480 with 1 Axes>"
            ],
            "image/png": "[encoded data removed]"
          },
          "metadata": {},
          "execution_count": 14
        }
      ],
      "source": [
        "from qiskit.visualization import plot_histogram\n",
        "plot_histogram(counts)"
      ]
    },
    {
      "cell_type": "markdown",
      "metadata": {
        "id": "sPADWxWMeHhS"
      },
      "source": [
        "The estimated outcome probabilities $\\mathrm{Pr}(000)$ and  $\\mathrm{Pr}(111)$ are computed by taking the aggregate counts and dividing by the number of shots (times the circuit was repeated). Try changing the ``shots`` keyword in the ``execute`` function and see how the estimated probabilities change."
      ]
    },
    {
      "cell_type": "code",
      "execution_count": 15,
      "metadata": {
        "ExecuteTime": {
          "end_time": "2019-08-10T11:38:18.277518Z",
          "start_time": "2019-08-10T11:38:18.224481Z"
        },
        "id": "l8bMYQt_eHhT"
      },
      "outputs": [],
      "source": [
        "#import qiskit.tools.jupyter\n",
        "#%qiskit_version_table\n",
        "#%qiskit_copyright"
      ]
    }
  ],
  "metadata": {
    "anaconda-cloud": {},
    "celltoolbar": "Tags",
    "kernelspec": {
      "display_name": "Python 3",
      "language": "python",
      "name": "python3"
    },
    "language_info": {
      "codemirror_mode": {
        "name": "ipython",
        "version": 3
      },
      "file_extension": ".py",
      "mimetype": "text/x-python",
      "name": "python",
      "nbconvert_exporter": "python",
      "pygments_lexer": "ipython3",
      "version": "3.8.5"
    },
    "varInspector": {
      "cols": {
        "lenName": 16,
        "lenType": 16,
        "lenVar": 40
      },
      "kernels_config": {
        "python": {
          "delete_cmd_postfix": "",
          "delete_cmd_prefix": "del ",
          "library": "var_list.py",
          "varRefreshCmd": "print(var_dic_list())"
        },
        "r": {
          "delete_cmd_postfix": ") ",
          "delete_cmd_prefix": "rm(",
          "library": "var_list.r",
          "varRefreshCmd": "cat(var_dic_list()) "
        }
      },
      "types_to_exclude": [
        "module",
        "function",
        "builtin_function_or_method",
        "instance",
        "_Feature"
      ],
      "window_display": false
    },
    "colab": {
      "provenance": [],
      "include_colab_link": true
    }
  },
  "nbformat": 4,
  "nbformat_minor": 0
}