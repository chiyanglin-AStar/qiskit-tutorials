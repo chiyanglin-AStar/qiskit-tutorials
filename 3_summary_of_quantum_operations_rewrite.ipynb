{
  "nbformat": 4,
  "nbformat_minor": 0,
  "metadata": {
    "colab": {
      "provenance": [],
      "authorship_tag": "ABX9TyNrZSmtx6Lx2+7gMjv2e2Mz",
      "include_colab_link": true
    },
    "kernelspec": {
      "name": "python3",
      "display_name": "Python 3"
    },
    "language_info": {
      "name": "python"
    }
  },
  "cells": [
    {
      "cell_type": "markdown",
      "metadata": {
        "id": "view-in-github",
        "colab_type": "text"
      },
      "source": [
        "<a href=\"https://colab.research.google.com/github/chiyanglin-AStar/qiskit-tutorials/blob/master/3_summary_of_quantum_operations_rewrite.ipynb\" target=\"_parent\"><img src=\"https://colab.research.google.com/assets/colab-badge.svg\" alt=\"Open In Colab\"/></a>"
      ]
    },
    {
      "cell_type": "code",
      "source": [
        "!pip install qiskit\n",
        "!pip install qiskit[visualization]"
      ],
      "metadata": {
        "id": "JMTbEkWm8F7i",
        "colab": {
          "base_uri": "https://localhost:8080/"
        },
        "outputId": "8c10a662-6f29-451b-cfd8-b6aa3d97025c"
      },
      "execution_count": 1,
      "outputs": [
        {
          "output_type": "stream",
          "name": "stdout",
          "text": [
            "Collecting qiskit\n",
            "  Downloading qiskit-1.3.0-cp39-abi3-manylinux_2_17_x86_64.manylinux2014_x86_64.whl.metadata (12 kB)\n",
            "Collecting rustworkx>=0.15.0 (from qiskit)\n",
            "  Downloading rustworkx-0.15.1-cp38-abi3-manylinux_2_17_x86_64.manylinux2014_x86_64.whl.metadata (9.9 kB)\n",
            "Requirement already satisfied: numpy<3,>=1.17 in /usr/local/lib/python3.10/dist-packages (from qiskit) (1.26.4)\n",
            "Requirement already satisfied: scipy>=1.5 in /usr/local/lib/python3.10/dist-packages (from qiskit) (1.13.1)\n",
            "Requirement already satisfied: sympy>=1.3 in /usr/local/lib/python3.10/dist-packages (from qiskit) (1.13.1)\n",
            "Collecting dill>=0.3 (from qiskit)\n",
            "  Downloading dill-0.3.9-py3-none-any.whl.metadata (10 kB)\n",
            "Requirement already satisfied: python-dateutil>=2.8.0 in /usr/local/lib/python3.10/dist-packages (from qiskit) (2.8.2)\n",
            "Collecting stevedore>=3.0.0 (from qiskit)\n",
            "  Downloading stevedore-5.4.0-py3-none-any.whl.metadata (2.3 kB)\n",
            "Requirement already satisfied: typing-extensions in /usr/local/lib/python3.10/dist-packages (from qiskit) (4.12.2)\n",
            "Collecting symengine<0.14,>=0.11 (from qiskit)\n",
            "  Downloading symengine-0.13.0-cp310-cp310-manylinux_2_17_x86_64.manylinux2014_x86_64.whl.metadata (1.2 kB)\n",
            "Requirement already satisfied: six>=1.5 in /usr/local/lib/python3.10/dist-packages (from python-dateutil>=2.8.0->qiskit) (1.16.0)\n",
            "Collecting pbr>=2.0.0 (from stevedore>=3.0.0->qiskit)\n",
            "  Downloading pbr-6.1.0-py2.py3-none-any.whl.metadata (3.4 kB)\n",
            "Requirement already satisfied: mpmath<1.4,>=1.1.0 in /usr/local/lib/python3.10/dist-packages (from sympy>=1.3->qiskit) (1.3.0)\n",
            "Downloading qiskit-1.3.0-cp39-abi3-manylinux_2_17_x86_64.manylinux2014_x86_64.whl (6.7 MB)\n",
            "\u001b[2K   \u001b[90m━━━━━━━━━━━━━━━━━━━━━━━━━━━━━━━━━━━━━━━━\u001b[0m \u001b[32m6.7/6.7 MB\u001b[0m \u001b[31m38.8 MB/s\u001b[0m eta \u001b[36m0:00:00\u001b[0m\n",
            "\u001b[?25hDownloading dill-0.3.9-py3-none-any.whl (119 kB)\n",
            "\u001b[2K   \u001b[90m━━━━━━━━━━━━━━━━━━━━━━━━━━━━━━━━━━━━━━━━\u001b[0m \u001b[32m119.4/119.4 kB\u001b[0m \u001b[31m5.5 MB/s\u001b[0m eta \u001b[36m0:00:00\u001b[0m\n",
            "\u001b[?25hDownloading rustworkx-0.15.1-cp38-abi3-manylinux_2_17_x86_64.manylinux2014_x86_64.whl (2.0 MB)\n",
            "\u001b[2K   \u001b[90m━━━━━━━━━━━━━━━━━━━━━━━━━━━━━━━━━━━━━━━━\u001b[0m \u001b[32m2.0/2.0 MB\u001b[0m \u001b[31m39.0 MB/s\u001b[0m eta \u001b[36m0:00:00\u001b[0m\n",
            "\u001b[?25hDownloading stevedore-5.4.0-py3-none-any.whl (49 kB)\n",
            "\u001b[2K   \u001b[90m━━━━━━━━━━━━━━━━━━━━━━━━━━━━━━━━━━━━━━━━\u001b[0m \u001b[32m49.5/49.5 kB\u001b[0m \u001b[31m2.5 MB/s\u001b[0m eta \u001b[36m0:00:00\u001b[0m\n",
            "\u001b[?25hDownloading symengine-0.13.0-cp310-cp310-manylinux_2_17_x86_64.manylinux2014_x86_64.whl (49.7 MB)\n",
            "\u001b[2K   \u001b[90m━━━━━━━━━━━━━━━━━━━━━━━━━━━━━━━━━━━━━━━━\u001b[0m \u001b[32m49.7/49.7 MB\u001b[0m \u001b[31m16.0 MB/s\u001b[0m eta \u001b[36m0:00:00\u001b[0m\n",
            "\u001b[?25hDownloading pbr-6.1.0-py2.py3-none-any.whl (108 kB)\n",
            "\u001b[2K   \u001b[90m━━━━━━━━━━━━━━━━━━━━━━━━━━━━━━━━━━━━━━━━\u001b[0m \u001b[32m108.5/108.5 kB\u001b[0m \u001b[31m7.0 MB/s\u001b[0m eta \u001b[36m0:00:00\u001b[0m\n",
            "\u001b[?25hInstalling collected packages: symengine, rustworkx, pbr, dill, stevedore, qiskit\n",
            "Successfully installed dill-0.3.9 pbr-6.1.0 qiskit-1.3.0 rustworkx-0.15.1 stevedore-5.4.0 symengine-0.13.0\n",
            "Requirement already satisfied: qiskit[visualization] in /usr/local/lib/python3.10/dist-packages (1.3.0)\n",
            "Requirement already satisfied: rustworkx>=0.15.0 in /usr/local/lib/python3.10/dist-packages (from qiskit[visualization]) (0.15.1)\n",
            "Requirement already satisfied: numpy<3,>=1.17 in /usr/local/lib/python3.10/dist-packages (from qiskit[visualization]) (1.26.4)\n",
            "Requirement already satisfied: scipy>=1.5 in /usr/local/lib/python3.10/dist-packages (from qiskit[visualization]) (1.13.1)\n",
            "Requirement already satisfied: sympy>=1.3 in /usr/local/lib/python3.10/dist-packages (from qiskit[visualization]) (1.13.1)\n",
            "Requirement already satisfied: dill>=0.3 in /usr/local/lib/python3.10/dist-packages (from qiskit[visualization]) (0.3.9)\n",
            "Requirement already satisfied: python-dateutil>=2.8.0 in /usr/local/lib/python3.10/dist-packages (from qiskit[visualization]) (2.8.2)\n",
            "Requirement already satisfied: stevedore>=3.0.0 in /usr/local/lib/python3.10/dist-packages (from qiskit[visualization]) (5.4.0)\n",
            "Requirement already satisfied: typing-extensions in /usr/local/lib/python3.10/dist-packages (from qiskit[visualization]) (4.12.2)\n",
            "Requirement already satisfied: symengine<0.14,>=0.11 in /usr/local/lib/python3.10/dist-packages (from qiskit[visualization]) (0.13.0)\n",
            "Requirement already satisfied: matplotlib>=3.3 in /usr/local/lib/python3.10/dist-packages (from qiskit[visualization]) (3.8.0)\n",
            "Requirement already satisfied: pydot in /usr/local/lib/python3.10/dist-packages (from qiskit[visualization]) (3.0.2)\n",
            "Requirement already satisfied: Pillow>=4.2.1 in /usr/local/lib/python3.10/dist-packages (from qiskit[visualization]) (11.0.0)\n",
            "Collecting pylatexenc>=1.4 (from qiskit[visualization])\n",
            "  Downloading pylatexenc-2.10.tar.gz (162 kB)\n",
            "\u001b[2K     \u001b[90m━━━━━━━━━━━━━━━━━━━━━━━━━━━━━━━━━━━━━━━━\u001b[0m \u001b[32m162.6/162.6 kB\u001b[0m \u001b[31m4.1 MB/s\u001b[0m eta \u001b[36m0:00:00\u001b[0m\n",
            "\u001b[?25h  Preparing metadata (setup.py) ... \u001b[?25l\u001b[?25hdone\n",
            "Requirement already satisfied: seaborn>=0.9.0 in /usr/local/lib/python3.10/dist-packages (from qiskit[visualization]) (0.13.2)\n",
            "Requirement already satisfied: contourpy>=1.0.1 in /usr/local/lib/python3.10/dist-packages (from matplotlib>=3.3->qiskit[visualization]) (1.3.1)\n",
            "Requirement already satisfied: cycler>=0.10 in /usr/local/lib/python3.10/dist-packages (from matplotlib>=3.3->qiskit[visualization]) (0.12.1)\n",
            "Requirement already satisfied: fonttools>=4.22.0 in /usr/local/lib/python3.10/dist-packages (from matplotlib>=3.3->qiskit[visualization]) (4.55.0)\n",
            "Requirement already satisfied: kiwisolver>=1.0.1 in /usr/local/lib/python3.10/dist-packages (from matplotlib>=3.3->qiskit[visualization]) (1.4.7)\n",
            "Requirement already satisfied: packaging>=20.0 in /usr/local/lib/python3.10/dist-packages (from matplotlib>=3.3->qiskit[visualization]) (24.2)\n",
            "Requirement already satisfied: pyparsing>=2.3.1 in /usr/local/lib/python3.10/dist-packages (from matplotlib>=3.3->qiskit[visualization]) (3.2.0)\n",
            "Requirement already satisfied: six>=1.5 in /usr/local/lib/python3.10/dist-packages (from python-dateutil>=2.8.0->qiskit[visualization]) (1.16.0)\n",
            "Requirement already satisfied: pandas>=1.2 in /usr/local/lib/python3.10/dist-packages (from seaborn>=0.9.0->qiskit[visualization]) (2.2.2)\n",
            "Requirement already satisfied: pbr>=2.0.0 in /usr/local/lib/python3.10/dist-packages (from stevedore>=3.0.0->qiskit[visualization]) (6.1.0)\n",
            "Requirement already satisfied: mpmath<1.4,>=1.1.0 in /usr/local/lib/python3.10/dist-packages (from sympy>=1.3->qiskit[visualization]) (1.3.0)\n",
            "Requirement already satisfied: pytz>=2020.1 in /usr/local/lib/python3.10/dist-packages (from pandas>=1.2->seaborn>=0.9.0->qiskit[visualization]) (2024.2)\n",
            "Requirement already satisfied: tzdata>=2022.7 in /usr/local/lib/python3.10/dist-packages (from pandas>=1.2->seaborn>=0.9.0->qiskit[visualization]) (2024.2)\n",
            "Building wheels for collected packages: pylatexenc\n",
            "  Building wheel for pylatexenc (setup.py) ... \u001b[?25l\u001b[?25hdone\n",
            "  Created wheel for pylatexenc: filename=pylatexenc-2.10-py3-none-any.whl size=136816 sha256=6bddf3101c1ac0a2083ad3855a72b1ca5c70de4f53e8e5d0a27ce404eb9dbd20\n",
            "  Stored in directory: /root/.cache/pip/wheels/d3/31/8b/e09b0386afd80cfc556c00408c9aeea5c35c4d484a9c762fd5\n",
            "Successfully built pylatexenc\n",
            "Installing collected packages: pylatexenc\n",
            "Successfully installed pylatexenc-2.10\n"
          ]
        }
      ]
    },
    {
      "cell_type": "markdown",
      "source": [
        "# Qiskit 1.0 simulator"
      ],
      "metadata": {
        "id": "TKY4Npyw7xU3"
      }
    },
    {
      "cell_type": "markdown",
      "source": [
        "## Statevector simulator\n",
        "```\n",
        "from qiskit import QuantumCircuit\n",
        "\n",
        "qc = QuantumCircuit(3)\n",
        "qc.h(0)\n",
        "qc.h(1)\n",
        "qc.cx(1, 2)\n",
        "qc.measure_all()\n",
        "\n",
        "# Previous\n",
        "from qiskit import BasicAer\n",
        "backend = BasicAer.get_backend(\"statevector_simulator\")\n",
        "statevector = backend.run(qc).result().get_statevector()\n",
        "\n",
        "# Current\n",
        "qc.remove_final_measurements()  # no measurements allowed\n",
        "from qiskit.quantum_info import Statevector\n",
        "statevector = Statevector(qc)\n",
        "\n",
        "```"
      ],
      "metadata": {
        "id": "8H5weBv_8TWj"
      }
    },
    {
      "cell_type": "code",
      "execution_count": 2,
      "metadata": {
        "id": "tLy-UPGd7wAn"
      },
      "outputs": [],
      "source": [
        "from qiskit import QuantumCircuit\n",
        "\n",
        "qc = QuantumCircuit(3)\n",
        "qc.h(0)\n",
        "qc.h(1)\n",
        "qc.cx(1, 2)\n",
        "qc.measure_all()"
      ]
    },
    {
      "cell_type": "code",
      "source": [
        "# statevector_simulator Previous\n",
        "# from qiskit import BasicAer\n",
        "# backend = BasicAer.get_backend(\"statevector_simulator\")\n",
        "# statevector = backend.run(qc).result().get_statevector()"
      ],
      "metadata": {
        "id": "viLSAsOZ8L25"
      },
      "execution_count": null,
      "outputs": []
    },
    {
      "cell_type": "code",
      "source": [
        "# statevector_simulator Current\n",
        "qc.remove_final_measurements()  # no measurements allowed\n",
        "from qiskit.quantum_info import Statevector\n",
        "statevector = Statevector(qc)"
      ],
      "metadata": {
        "id": "-ip38BUc8QSr"
      },
      "execution_count": 3,
      "outputs": []
    },
    {
      "cell_type": "markdown",
      "source": [
        "## Unitary simulator\n",
        "```\n",
        "from qiskit import QuantumCircuit\n",
        "qc = QuantumCircuit(3)\n",
        "qc.h(0)\n",
        "qc.h(1)\n",
        "qc.cx(1, 2)\n",
        "qc.measure_all()\n",
        "\n",
        "# Previous\n",
        "from qiskit import BasicAer\n",
        "backend = BasicAer.get_backend(\"unitary_simulator\")\n",
        "result = backend.run(qc).result()\n",
        "\n",
        "# Current\n",
        "qc.remove_final_measurements()  # no measurements allowed\n",
        "from qiskit.quantum_info import Operator\n",
        "result = Operator(qc).data\n",
        "\n",
        "```"
      ],
      "metadata": {
        "id": "jrVcvduO8qKC"
      }
    },
    {
      "cell_type": "code",
      "source": [
        "# unitary_simulator Previous\n",
        "# from qiskit import BasicAer\n",
        "# backend = BasicAer.get_backend(\"unitary_simulator\")\n",
        "# result = backend.run(qc).result()"
      ],
      "metadata": {
        "id": "dB91eaG29WeG"
      },
      "execution_count": null,
      "outputs": []
    },
    {
      "cell_type": "code",
      "source": [
        "# unitary_simulator Current\n",
        "qc.remove_final_measurements()  # no measurements allowed\n",
        "from qiskit.quantum_info import Operator\n",
        "result = Operator(qc).data"
      ],
      "metadata": {
        "id": "GMZMTjXu8q3y"
      },
      "execution_count": 4,
      "outputs": []
    },
    {
      "cell_type": "markdown",
      "source": [
        "# QASM simulator\n",
        "```\n",
        "from qiskit import QuantumCircuit\n",
        "qc = QuantumCircuit(3)\n",
        "qc.h(0)\n",
        "qc.h(1)\n",
        "qc.cx(1, 2)\n",
        "qc.measure_all()\n",
        "\n",
        "# Previous\n",
        "from qiskit import BasicAer\n",
        "backend = BasicAer.get_backend(\"qasm_simulator\")\n",
        "result = backend.run(qc).result()\n",
        "\n",
        "# One current option\n",
        "from qiskit.providers.basic_provider import BasicProvider\n",
        "backend = BasicProvider().get_backend(\"basic_simulator\")\n",
        "result = backend.run(qc).result()\n",
        "\n",
        "# Another current option is to specify it directly\n",
        "from qiskit.providers.basic_provider import BasicSimulator\n",
        "backend = BasicSimulator()\n",
        "result = backend.run(qc).result()\n",
        "\n",
        "```\n"
      ],
      "metadata": {
        "id": "lxbic-Fl9vDH"
      }
    },
    {
      "cell_type": "code",
      "source": [
        "# QASM simulator Previous\n",
        "# from qiskit import BasicAer\n",
        "# backend = BasicAer.get_backend(\"qasm_simulator\")\n",
        "# result = backend.run(qc).result()"
      ],
      "metadata": {
        "id": "Jme1vgoS-HcA"
      },
      "execution_count": null,
      "outputs": []
    },
    {
      "cell_type": "code",
      "source": [
        "\n",
        "# QASM simulator: One current option\n",
        "from qiskit.providers.basic_provider import BasicProvider\n",
        "backend = BasicProvider().get_backend(\"basic_simulator\")\n",
        "result = backend.run(qc).result()\n",
        "\n",
        "# QASM simulator: Another current option is to specify it directly\n",
        "from qiskit.providers.basic_provider import BasicSimulator\n",
        "backend = BasicSimulator()\n",
        "result = backend.run(qc).result()"
      ],
      "metadata": {
        "id": "KhYFShqj9-eN",
        "colab": {
          "base_uri": "https://localhost:8080/"
        },
        "outputId": "c2b2d588-95d7-4c7f-9c21-de703e1486d6"
      },
      "execution_count": 5,
      "outputs": [
        {
          "output_type": "stream",
          "name": "stderr",
          "text": [
            "WARNING:qiskit.providers.basic_provider.basic_simulator:No classical registers in circuit \"circuit-157\", counts will be empty.\n",
            "WARNING:qiskit.providers.basic_provider.basic_simulator:No classical registers in circuit \"circuit-157\", counts will be empty.\n"
          ]
        }
      ]
    },
    {
      "cell_type": "markdown",
      "source": [
        "# Summary of Quantum Operations"
      ],
      "metadata": {
        "id": "Br5Vl6-weMGs"
      }
    },
    {
      "cell_type": "markdown",
      "source": [
        "In this section we will go into the different operations that are available in Qiskit Terra. These are:\n",
        "\n",
        "- Single-qubit quantum gates\n",
        "- Multi-qubit quantum gates\n",
        "- Measurements\n",
        "- Reset\n",
        "- Conditionals\n",
        "- State initialization\n",
        "\n",
        "We will also show you how to use the three different simulators:\n",
        "\n",
        "- unitary_simulator\n",
        "- qasm_simulator\n",
        "- statevector_simulator"
      ],
      "metadata": {
        "id": "nJTEVe_FeS6G"
      }
    },
    {
      "cell_type": "code",
      "source": [
        "# Useful additional packages\n",
        "import matplotlib.pyplot as plt\n",
        "import numpy as np\n",
        "from math import pi"
      ],
      "metadata": {
        "id": "MtzIgJODeaXu"
      },
      "execution_count": 6,
      "outputs": []
    },
    {
      "cell_type": "code",
      "source": [
        "from qiskit.visualization import circuit_drawer\n",
        "from qiskit import QuantumCircuit, ClassicalRegister, QuantumRegister, transpile\n",
        "from qiskit.quantum_info import state_fidelity\n",
        "from qiskit.quantum_info import Operator # unitary_simulator Current\n",
        "from qiskit.providers.basic_provider import BasicProvider # QASM simulator\n",
        "from qiskit.quantum_info import Statevector # statevector_simulator"
      ],
      "metadata": {
        "id": "2L_BuXcsegX2"
      },
      "execution_count": 8,
      "outputs": []
    },
    {
      "cell_type": "markdown",
      "source": [
        "## Single Qubit Quantum states <a name=\"single_states\"/>\n",
        "\n",
        "A single qubit quantum state can be written as\n",
        "\n",
        "$$\\left|\\psi\\right\\rangle = \\alpha\\left|0\\right\\rangle + \\beta \\left|1\\right\\rangle$$\n",
        "\n",
        "\n",
        "where $\\alpha$ and $\\beta$ are complex numbers. In a measurement the probability of the bit being in $\\left|0\\right\\rangle$ is $|\\alpha|^2$ and $\\left|1\\right\\rangle$ is $|\\beta|^2$. As a vector this is\n",
        "\n",
        "$$\n",
        "\\left|\\psi\\right\\rangle =  \n",
        "\\begin{pmatrix}\n",
        "\\alpha \\\\\n",
        "\\beta\n",
        "\\end{pmatrix}.\n",
        "$$\n",
        "\n",
        "Note, due to the conservation of probability $|\\alpha|^2+ |\\beta|^2 = 1$ and since global phase is undetectable $\\left|\\psi\\right\\rangle := e^{i\\delta} \\left|\\psi\\right\\rangle$ we only require two real numbers to describe a single qubit quantum state.\n",
        "\n",
        "A convenient representation is\n",
        "\n",
        "$$\\left|\\psi\\right\\rangle = \\cos(\\theta/2)\\left|0\\right\\rangle + \\sin(\\theta/2)e^{i\\phi}\\left|1\\right\\rangle$$\n",
        "\n",
        "where $0\\leq \\phi < 2\\pi$, and $0\\leq \\theta \\leq \\pi$.  From this, it is clear that there is a one-to-one correspondence between qubit states ($\\mathbb{C}^2$) and the points on the surface of a unit sphere ($\\mathbb{S}^2$). This is called the Bloch sphere representation of a qubit state.\n",
        "\n",
        "Quantum gates/operations are usually represented as matrices. A gate which acts on a qubit is represented by a $2\\times 2$ unitary matrix $U$. The action of the quantum gate is found by multiplying the matrix representing the gate with the vector which represents the quantum state.\n",
        "\n",
        "$$\\left|\\psi'\\right\\rangle = U\\left|\\psi\\right\\rangle$$\n",
        "\n",
        "A general unitary must be able to take the $\\left|0\\right\\rangle$ to the above state. That is\n",
        "\n",
        "$$\n",
        "U = \\begin{pmatrix}\n",
        "\\cos(\\theta/2) & a \\\\\n",
        "e^{i\\phi}\\sin(\\theta/2) & b\n",
        "\\end{pmatrix}\n",
        "$$\n",
        "\n",
        "where $a$ and $b$ are complex numbers constrained such that $U^\\dagger U = I$ for all $0\\leq\\theta\\leq\\pi$ and $0\\leq \\phi<2\\pi$. This gives 3 constraints and as such $a\\rightarrow -e^{i\\lambda}\\sin(\\theta/2)$ and $b\\rightarrow e^{i\\lambda+i\\phi}\\cos(\\theta/2)$ where $0\\leq \\lambda<2\\pi$ giving\n",
        "\n",
        "$$\n",
        "U(\\theta, \\phi, \\lambda) =\n",
        "    \\begin{pmatrix}\n",
        "        \\cos\\left(\\frac{\\theta}{2}\\right)          & -e^{i\\lambda}\\sin\\left(\\frac{\\theta}{2}\\right) \\\\\n",
        "        e^{i\\phi}\\sin\\left(\\frac{\\theta}{2}\\right) & e^{i(\\phi+\\lambda)}\\cos\\left(\\frac{\\theta}{2}\\right)\n",
        "    \\end{pmatrix}\n",
        "$$\n",
        "\n",
        "This is the most general form of a single qubit unitary."
      ],
      "metadata": {
        "id": "IcXB8OCwfyTI"
      }
    },
    {
      "cell_type": "markdown",
      "source": [
        "## Single-Qubit Gates <a name=\"single_gates\"/>\n",
        "\n",
        "The single-qubit gates available are:\n",
        "- U gate\n",
        "- P gate\n",
        "- Identity gate\n",
        "- Pauli gates\n",
        "- Clifford gates\n",
        "- $C3$ gates\n",
        "- Standard rotation gates\n",
        "\n",
        "We have provided a backend: `unitary_simulator` to allow you to calculate the unitary matrices."
      ],
      "metadata": {
        "id": "rzXD3eMpf03O"
      }
    },
    {
      "cell_type": "code",
      "source": [
        "q = QuantumRegister(1)"
      ],
      "metadata": {
        "id": "DiaD8sS5gAB2"
      },
      "execution_count": 10,
      "outputs": []
    },
    {
      "cell_type": "markdown",
      "source": [
        "### U gate\n",
        "\n",
        "In Qiskit we give you access to the general unitary using the $u$ gate, which has the following matrix form\n",
        "\n",
        "$$\n",
        "U(\\theta, \\phi, \\lambda) =\n",
        "    \\begin{pmatrix}\n",
        "        \\cos\\left(\\frac{\\theta}{2}\\right)          & -e^{i\\lambda}\\sin\\left(\\frac{\\theta}{2}\\right) \\\\\n",
        "        e^{i\\phi}\\sin\\left(\\frac{\\theta}{2}\\right) & e^{i(\\phi+\\lambda)}\\cos\\left(\\frac{\\theta}{2}\\right)\n",
        "    \\end{pmatrix}\n",
        "$$"
      ],
      "metadata": {
        "id": "1KVCJcUggF4y"
      }
    },
    {
      "cell_type": "code",
      "source": [
        "qc = QuantumCircuit(q)\n",
        "qc.u(pi/2,pi/4,pi/8,q)\n",
        "qc.draw()"
      ],
      "metadata": {
        "id": "gXF_HOvkgLpw",
        "outputId": "a45eda40-6fe4-406c-b4fa-32460f56be9c",
        "colab": {
          "base_uri": "https://localhost:8080/",
          "height": 63
        }
      },
      "execution_count": 11,
      "outputs": [
        {
          "output_type": "execute_result",
          "data": {
            "text/plain": [
              "    ┌────────────────┐\n",
              "q0: ┤ U(π/2,π/4,π/8) ├\n",
              "    └────────────────┘"
            ],
            "text/html": [
              "<pre style=\"word-wrap: normal;white-space: pre;background: #fff0;line-height: 1.1;font-family: &quot;Courier New&quot;,Courier,monospace\">    ┌────────────────┐\n",
              "q0: ┤ U(π/2,π/4,π/8) ├\n",
              "    └────────────────┘</pre>"
            ]
          },
          "metadata": {},
          "execution_count": 11
        }
      ]
    },
    {
      "cell_type": "code",
      "source": [
        "backend = BasicProvider().get_backend(\"basic_simulator\")\n",
        "result = backend.run(qc).result()"
      ],
      "metadata": {
        "id": "_byUyqOmgihH",
        "outputId": "3b5e5b3c-dedd-48da-9243-951167e04cee",
        "colab": {
          "base_uri": "https://localhost:8080/"
        }
      },
      "execution_count": 12,
      "outputs": [
        {
          "output_type": "stream",
          "name": "stderr",
          "text": [
            "WARNING:qiskit.providers.basic_provider.basic_simulator:No classical registers in circuit \"circuit-162\", counts will be empty.\n"
          ]
        }
      ]
    },
    {
      "cell_type": "markdown",
      "source": [
        "### P gate\n",
        "\n",
        "---\n",
        "\n",
        "\n",
        "\n",
        "The $p(\\lambda)= u(0, 0, \\lambda)$ gate has the matrix form\n",
        "\n",
        "$$\n",
        "p(\\lambda) =\n",
        "\\begin{pmatrix}\n",
        "1 & 0 \\\\\n",
        "0 & e^{i \\lambda}\n",
        "\\end{pmatrix},\n",
        "$$\n",
        "\n",
        "which is useful as it allows us to apply a quantum phase."
      ],
      "metadata": {
        "id": "dY-i53mfg4Kd"
      }
    },
    {
      "cell_type": "code",
      "source": [
        "# unitary_simulator Current\n",
        "qc.remove_final_measurements()  # no measurements allowed\n",
        "from qiskit.quantum_info import Operator\n",
        "result = Operator(qc).data\n",
        "print(result)"
      ],
      "metadata": {
        "id": "7sLywXqMg6me",
        "outputId": "13c7fd0e-0a0a-4aab-f469-4d3e6f997ec5",
        "colab": {
          "base_uri": "https://localhost:8080/"
        }
      },
      "execution_count": 14,
      "outputs": [
        {
          "output_type": "stream",
          "name": "stdout",
          "text": [
            "[[ 0.70710678+0.j         -0.65328148-0.27059805j]\n",
            " [ 0.5       +0.5j         0.27059805+0.65328148j]]\n"
          ]
        }
      ]
    }
  ]
}